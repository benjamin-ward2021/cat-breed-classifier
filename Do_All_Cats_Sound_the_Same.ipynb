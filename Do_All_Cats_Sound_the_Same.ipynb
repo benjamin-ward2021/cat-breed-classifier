{
  "nbformat": 4,
  "nbformat_minor": 0,
  "metadata": {
    "colab": {
      "provenance": []
    },
    "kernelspec": {
      "name": "python3",
      "display_name": "Python 3"
    },
    "language_info": {
      "name": "python"
    }
  },
  "cells": [
    {
      "cell_type": "code",
      "execution_count": 3,
      "metadata": {
        "colab": {
          "base_uri": "https://localhost:8080/"
        },
        "id": "6UQnnBIohgux",
        "outputId": "3b61ad0c-49a6-4dee-d53c-77dada4526bb"
      },
      "outputs": [
        {
          "output_type": "stream",
          "name": "stdout",
          "text": [
            "                  Filename      Min      Max     Mean   Median     Std   Dur\n",
            "0  B_ANI01_MC_FN_SIM01_101   390.20  2167.83   918.45   761.19  484.03  2.28\n",
            "1  B_ANI01_MC_FN_SIM01_102   469.00  1972.95  1147.84   694.61  660.56  1.42\n",
            "2  B_ANI01_MC_FN_SIM01_103   690.26  2036.39   935.35   747.81  447.14  1.80\n",
            "3  B_ANI01_MC_FN_SIM01_301   610.33  2045.01  1212.04   750.90  592.02  1.74\n",
            "4  B_ANI01_MC_FN_SIM01_302   520.31   649.53   583.96   601.32   41.37  1.27\n",
            "5  B_ANI01_MC_FN_SIM01_303   617.02  2017.49   725.67   696.72  193.95  1.92\n",
            "6  B_BAC01_MC_MN_SIM01_101   601.82  1426.68   790.44   739.94  229.81  1.16\n",
            "7  B_BAC01_MC_MN_SIM01_102   342.36  1898.81   944.36   351.84  770.40  1.23\n",
            "8  B_BAC01_MC_MN_SIM01_103   289.96   292.72   291.48   291.77    1.12  1.22\n",
            "9  B_BAC01_MC_MN_SIM01_202  1785.14  1888.33  1836.73  1832.66   31.39  1.25\n"
          ]
        }
      ],
      "source": [
        "import pandas as pd\n",
        "import numpy as np\n",
        "from sklearn.ensemble import RandomForestClassifier\n",
        "from sklearn.model_selection import train_test_split\n",
        "\n",
        "# Data is from a dataset called \"CatMeows\", here is a link: https://zenodo.org/records/4008297\n",
        "\n",
        "# I used a script to gather data about the F0 and convert\n",
        "# that to a CSV, here is a link to the GitHub I took it from: https://github.com/YoeriNijs/PraatPitch\n",
        "# I changed that script slightly, the one I used is at the bottom of this notebook\n",
        "df = pd.read_csv(\"results.csv\")\n",
        "print(df.head(10))"
      ]
    },
    {
      "cell_type": "code",
      "source": [
        "# The breed is the third part of the filename so we add a new column that extracts it\n",
        "df['Breed'] = df['Filename'].apply(lambda x : x.split('_')[2])\n",
        "print(df['Breed'].value_counts())\n",
        "\n",
        "# We need it as a boolean for the classifier\n",
        "df['Breed'] = df['Breed'].apply(lambda x : 0 if x == 'EU' else 1)\n",
        "print(df['Breed'].value_counts())"
      ],
      "metadata": {
        "colab": {
          "base_uri": "https://localhost:8080/"
        },
        "id": "6eSIo3vfhqIv",
        "outputId": "ff71cd10-c7f2-422d-e531-9ba9fe662254"
      },
      "execution_count": 5,
      "outputs": [
        {
          "output_type": "stream",
          "name": "stdout",
          "text": [
            "EU    252\n",
            "MC    188\n",
            "Name: Breed, dtype: int64\n",
            "0    252\n",
            "1    188\n",
            "Name: Breed, dtype: int64\n"
          ]
        }
      ]
    },
    {
      "cell_type": "code",
      "source": [
        "forest = RandomForestClassifier(random_state=0)\n",
        "\n",
        "model_df = df.drop(columns=['Filename'])\n",
        "train, test = train_test_split(model_df, test_size=0.1, random_state=0)\n",
        "train_y = train['Breed']\n",
        "train_X = train.drop(columns='Breed')\n",
        "\n",
        "test_y = test['Breed']\n",
        "test_X = test.drop(columns='Breed')\n",
        "\n",
        "forest.fit(train_X, train_y)\n",
        "print(forest.score(test_X, test_y) * 100)"
      ],
      "metadata": {
        "colab": {
          "base_uri": "https://localhost:8080/"
        },
        "id": "d7D7rsuYj1ZN",
        "outputId": "fab00018-92db-4196-8ba1-be67f5376fec"
      },
      "execution_count": 6,
      "outputs": [
        {
          "output_type": "stream",
          "name": "stdout",
          "text": [
            "77.27272727272727\n"
          ]
        }
      ]
    },
    {
      "cell_type": "code",
      "source": [
        "max_name = \"\"\n",
        "max_importance = 0.0\n",
        "for (col_name, importance) in zip(train_X.columns, forest.feature_importances_):\n",
        "  print(\"Name: \" + col_name + \", importance: \", importance)\n",
        "  if importance > max_importance:\n",
        "    max_importance = importance\n",
        "    max_name = col_name\n",
        "\n",
        "print(\"Most important column: \" + max_name)"
      ],
      "metadata": {
        "colab": {
          "base_uri": "https://localhost:8080/"
        },
        "id": "O4AMiUoNuuW-",
        "outputId": "7216f1e4-d72e-4aa5-ac21-508ef6eb47b2"
      },
      "execution_count": 7,
      "outputs": [
        {
          "output_type": "stream",
          "name": "stdout",
          "text": [
            "Name: Min, importance:  0.18387563702788284\n",
            "Name: Max, importance:  0.14807906041129543\n",
            "Name: Mean, importance:  0.1389484286183741\n",
            "Name: Median, importance:  0.16204789790186166\n",
            "Name: Std, importance:  0.16305076947764977\n",
            "Name: Dur, importance:  0.20399820656293624\n",
            "Most important column: Dur\n"
          ]
        }
      ]
    },
    {
      "cell_type": "markdown",
      "source": [
        "([link to GitHub of script](https://github.com/YoeriNijs/PraatPitch))\n",
        "I slightly changed the Praat script I got from GitHub so here it is in case you try to replicate my data exactly. Don't forget to add the backslash at the end of the \"sound directory\" when you run it:\n",
        "```\n",
        "# Praat script to compute mean pitch of audio files in a specific directory\n",
        "# Outcome is stored in a csv file\n",
        "#\n",
        "# Yoeri Nijs\n",
        "# Master Thesis Human Aspects of Information Technology\n",
        "# Tilburg University\n",
        "#\n",
        "# Based on the work of Jonas Lindh, 2005-2006\n",
        "# http://www.ling.gu.se/~jonas/sounds/\n",
        "# GNU General Public License\n",
        "\n",
        "# Script form\n",
        "form Compute pitch of audio files\n",
        "\tcomment Directory of sound files\n",
        "\ttext sound_directory Full path of audio directory\n",
        "\tsentence Sound_extension .mp3\n",
        "\tcomment Full path of text file with results\n",
        "\ttext resultfile Full path of results directory\\results.csv\n",
        "\tcomment Pitch analysis parameters\n",
        "\tpositive Time_step 0.01\n",
        "\tpositive Minimum_pitch_(Hz) 200\n",
        "\tpositive Maximum_pitch_(Hz) 600\n",
        "endform\n",
        "\n",
        "# Create listing of all sound files\n",
        "Create Strings as file list... list 'sound_directory$'*'sound_extension$'\n",
        "numberFiles = Get number of strings\n",
        "\n",
        "# Check if the result file already exists\n",
        "if fileReadable (resultfile$)\n",
        "\tpause The resultfile 'resultfile$' already exists! Overwrite?\n",
        "\tfiledelete 'resultfile$'\n",
        "endif\n",
        "\n",
        "\n",
        "# Create row with column titles to the result file\n",
        "titleline$ = \"Filename,Min,Max,Mean,Median,Std,Dur'newline$'\"\n",
        "fileappend \"'resultfile$'\" 'titleline$'\n",
        "\n",
        "# Compute all the sound files\n",
        "for ifile to numberFiles\n",
        "\n",
        "\t# Open audio file\n",
        "\tfilename$ = Get string... ifile\n",
        "\n",
        "\t# Read file and retrieve details\n",
        "\tRead from file... 'sound_directory$''filename$'\n",
        "\tsoundname$ = selected$ (\"Sound\", 1)\n",
        "\tdur = Get total duration\n",
        "\tTo Pitch... time_step minimum_pitch maximum_pitch\n",
        "\tmax = Get maximum... 0 0 Hertz None\n",
        "\tmin = Get minimum... 0 0 Hertz None\n",
        "\tmean = Get mean... 0 0 Hertz\n",
        "\tmedian = Get quantile... 0 0 0.5 Hertz\n",
        "\tstdev = Get standard deviation... 0 0 Hertz\n",
        "\taltqb = Get quantile... 0 0 0.0764 Hertz\n",
        "\tbaseline = mean - (1.43 * stdev)\n",
        "\tTo PointProcess\n",
        "\tpoints = Get number of points\n",
        "\tRemove\n",
        "\n",
        "\t# Save result to csv file\n",
        "\tresultline$ = \"'soundname$','min:2','max:2','mean:2','median:2','stdev:2','dur:2''newline$'\"\n",
        "\tfileappend \"'resultfile$'\" 'resultline$'\n",
        "\n",
        "\t# Remove temp objects from object's list\n",
        "\tselect Sound 'soundname$'\n",
        "\tplus Pitch 'soundname$'\n",
        "\tRemove\n",
        "\tselect Strings list\n",
        "\n",
        "\t# Next audio file\n",
        "endfor\n",
        "Remove\n",
        "```\n",
        "\n"
      ],
      "metadata": {
        "id": "4DrV06khwgzR"
      }
    }
  ]
}